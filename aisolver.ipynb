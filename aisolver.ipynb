{
  "nbformat": 4,
  "nbformat_minor": 0,
  "metadata": {
    "colab": {
      "provenance": [],
      "authorship_tag": "ABX9TyOiK/HanYUAZCrFydNdidOJ",
      "include_colab_link": true
    },
    "kernelspec": {
      "name": "python3",
      "display_name": "Python 3"
    },
    "language_info": {
      "name": "python"
    }
  },
  "cells": [
    {
      "cell_type": "markdown",
      "metadata": {
        "id": "view-in-github",
        "colab_type": "text"
      },
      "source": [
        "<a href=\"https://colab.research.google.com/github/raunakyadav92/AI-Puzzle-Solver/blob/main/aisolver.ipynb\" target=\"_parent\"><img src=\"https://colab.research.google.com/assets/colab-badge.svg\" alt=\"Open In Colab\"/></a>"
      ]
    },
    {
      "cell_type": "code",
      "execution_count": null,
      "metadata": {
        "id": "O3It0Z0EHD31"
      },
      "outputs": [],
      "source": [
        "from collections import deque\n",
        "\n",
        "# Maze Representation (0 = path, 1 = wall)\n",
        "maze = [\n",
        "    [0, 1, 0, 0, 0],\n",
        "    [0, 1, 0, 1, 0],\n",
        "    [0, 0, 0, 1, 0],\n",
        "    [1, 1, 0, 1, 0],\n",
        "    [0, 0, 0, 0, 0]\n",
        "]\n",
        "\n",
        "start = (0, 0)\n",
        "end = (4, 4)\n",
        "\n",
        "def bfs(maze, start, end):\n",
        "    rows, cols = len(maze), len(maze[0])\n",
        "    visited = [[False]*cols for _ in range(rows)]\n",
        "    queue = deque()\n",
        "    queue.append((start, [start]))\n",
        "    visited[start[0]][start[1]] = True\n",
        "\n",
        "    while queue:\n",
        "        (x, y), path = queue.popleft()\n",
        "\n",
        "        if (x, y) == end:\n",
        "            return path\n",
        "\n",
        "        for dx, dy in [(-1,0),(1,0),(0,-1),(0,1)]:\n",
        "            nx, ny = x + dx, y + dy\n",
        "            if 0 <= nx < rows and 0 <= ny < cols and not visited[nx][ny] and maze[nx][ny] == 0:\n",
        "                visited[nx][ny] = True\n",
        "                queue.append(((nx, ny), path + [(nx, ny)]))\n",
        "\n",
        "    return None\n",
        "\n",
        "path = bfs(maze, start, end)\n",
        "print(\"Path Found by AI:\", path)\n"
      ]
    }
  ]
}